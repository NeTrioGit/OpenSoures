{
 "cells": [
  {
   "cell_type": "code",
   "execution_count": 1,
   "id": "3202572e",
   "metadata": {},
   "outputs": [
    {
     "name": "stdout",
     "output_type": "stream",
     "text": [
      "Metal device set to: Apple M1 Pro\n",
      "\n",
      "systemMemory: 16.00 GB\n",
      "maxCacheSize: 5.33 GB\n",
      "\n",
      "{'verified': True, 'distance': 0.25551897444301563, 'threshold': 0.4, 'model': 'VGG-Face', 'detector_backend': 'opencv', 'similarity_metric': 'cosine', 'facial_areas': {'img1': {'x': 345, 'y': 211, 'w': 769, 'h': 769}, 'img2': {'x': 516, 'y': 192, 'w': 512, 'h': 512}}, 'time': 1.08}\n"
     ]
    }
   ],
   "source": [
    "from deepface import DeepFace\n",
    "\n",
    "# 비교할 이미지 파일 경로 설정\n",
    "img1_path = '/Users/neo/GitHub/OpenSoures/얼굴 인식 모델/dataset/img1.jpg'\n",
    "img2_path = '/Users/neo/GitHub/OpenSoures/얼굴 인식 모델/dataset/img3.jpg'\n",
    "\n",
    "# 이미지 간 유사도 계산\n",
    "result = DeepFace.verify(img1_path, img2_path)\n",
    "\n",
    "# 유사도 출력\n",
    "print(result)\n"
   ]
  }
 ],
 "metadata": {
  "kernelspec": {
   "display_name": "Python 3 (ipykernel)",
   "language": "python",
   "name": "python3"
  },
  "language_info": {
   "codemirror_mode": {
    "name": "ipython",
    "version": 3
   },
   "file_extension": ".py",
   "mimetype": "text/x-python",
   "name": "python",
   "nbconvert_exporter": "python",
   "pygments_lexer": "ipython3",
   "version": "3.8.15"
  }
 },
 "nbformat": 4,
 "nbformat_minor": 5
}
