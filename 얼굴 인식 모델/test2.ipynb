{
 "cells": [
  {
   "cell_type": "code",
   "execution_count": 60,
   "id": "3202572e",
   "metadata": {},
   "outputs": [
    {
     "name": "stderr",
     "output_type": "stream",
     "text": [
      "Action: emotion: 100%|██████████| 4/4 [00:00<00:00, 24.54it/s]"
     ]
    },
    {
     "name": "stdout",
     "output_type": "stream",
     "text": [
      "+------------------+---------------------------------------------------------------------------------------------------------------------------------------------------------------------------------------------------------------------+\n",
      "|      Action      |                                                                                                        Result                                                                                                       |\n",
      "+------------------+---------------------------------------------------------------------------------------------------------------------------------------------------------------------------------------------------------------------+\n",
      "|       age        |                                                                                                          30                                                                                                         |\n",
      "|      region      |                                                                                       {'x': 62, 'y': 110, 'w': 242, 'h': 242}                                                                                       |\n",
      "|      gender      |                                                                              {'Woman': 99.99727010726929, 'Man': 0.0027242678697803058}                                                                             |\n",
      "| dominant_gender  |                                                                                                        Woman                                                                                                        |\n",
      "|       race       |            {'asian': 4.638573527336121, 'indian': 2.2618116810917854, 'black': 0.36619130987674, 'white': 69.54454779624939, 'middle eastern': 9.433329105377197, 'latino hispanic': 13.755546510219574}            |\n",
      "|  dominant_race   |                                                                                                        white                                                                                                        |\n",
      "|     emotion      | {'angry': 0.019962768419645727, 'disgust': 1.2295660667405173e-05, 'fear': 5.593252182006836, 'happy': 3.864692896604538, 'sad': 0.3529065987095237, 'surprise': 0.04116587224416435, 'neutral': 90.12801051139832} |\n",
      "| dominant_emotion |                                                                                                       neutral                                                                                                       |\n",
      "+------------------+---------------------------------------------------------------------------------------------------------------------------------------------------------------------------------------------------------------------+\n"
     ]
    },
    {
     "name": "stderr",
     "output_type": "stream",
     "text": [
      "\n"
     ]
    }
   ],
   "source": [
    "from deepface import DeepFace\n",
    "from prettytable import PrettyTable\n",
    "\n",
    "# load image\n",
    "img_path = \"/Users/neo/GitHub/OpenSoures/얼굴 인식 모델/dataset/img5.jpg\"\n",
    "\n",
    "# analyze image\n",
    "result = DeepFace.analyze(img_path=img_path, actions=['age', 'gender', 'race', 'emotion'])\n",
    "\n",
    "# format result as a table and print it\n",
    "table = PrettyTable()\n",
    "table.field_names = [\"Action\", \"Result\"]\n",
    "for key, value in result[0].items():\n",
    "    if isinstance(value, float):\n",
    "        table.add_row([key, f\"{value:.2f}\"])\n",
    "    else:\n",
    "        table.add_row([key, value])\n",
    "print(table)\n"
   ]
  }
 ],
 "metadata": {
  "kernelspec": {
   "display_name": "Python 3 (ipykernel)",
   "language": "python",
   "name": "python3"
  },
  "language_info": {
   "codemirror_mode": {
    "name": "ipython",
    "version": 3
   },
   "file_extension": ".py",
   "mimetype": "text/x-python",
   "name": "python",
   "nbconvert_exporter": "python",
   "pygments_lexer": "ipython3",
   "version": "3.8.15"
  }
 },
 "nbformat": 4,
 "nbformat_minor": 5
}
